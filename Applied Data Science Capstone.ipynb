{
 "cells": [
  {
   "cell_type": "markdown",
   "metadata": {},
   "source": [
    "# Applied Data Science Capstone\n",
    "## IBM Data Science Professional Certificate - Course #9\n",
    "### By: Ahmed Sadek"
   ]
  },
  {
   "cell_type": "markdown",
   "metadata": {},
   "source": [
    "## Table of Contents\n",
    "* [Introduction](#intro)\n",
    "* [Scraping Wikipedia Table](#wiki)\n",
    "* [Clustering](#clus)\n"
   ]
  },
  {
   "cell_type": "markdown",
   "metadata": {},
   "source": [
    "<a id='intro' ></a>\n",
    "## Introduction\n",
    "\n",
    ">This notebook will be used to complete the final project **(Battle of the Neighbourhoods)** of the IBM Data Science Professional Certificate."
   ]
  },
  {
   "cell_type": "code",
   "execution_count": 1,
   "metadata": {},
   "outputs": [
    {
     "name": "stdout",
     "output_type": "stream",
     "text": [
      "Hello Capstone Project Course!\n"
     ]
    }
   ],
   "source": [
    "import pandas as pd\n",
    "import numpy as np\n",
    "print('Hello Capstone Project Course!')"
   ]
  },
  {
   "cell_type": "markdown",
   "metadata": {},
   "source": [
    "<a id='wiki' ></a>\n",
    "## Getting the data from Wikipedia\n",
    "\n",
    ">Now we will scrape the table of boroughs and neighbourhoods from wikipedia's Canadian Postal Codes table which you can find [here](https://en.wikipedia.org/wiki/List_of_postal_codes_of_Canada:_M).\n"
   ]
  },
  {
   "cell_type": "code",
   "execution_count": 2,
   "metadata": {},
   "outputs": [
    {
     "data": {
      "text/html": [
       "<div>\n",
       "<style scoped>\n",
       "    .dataframe tbody tr th:only-of-type {\n",
       "        vertical-align: middle;\n",
       "    }\n",
       "\n",
       "    .dataframe tbody tr th {\n",
       "        vertical-align: top;\n",
       "    }\n",
       "\n",
       "    .dataframe thead th {\n",
       "        text-align: right;\n",
       "    }\n",
       "</style>\n",
       "<table border=\"1\" class=\"dataframe\">\n",
       "  <thead>\n",
       "    <tr style=\"text-align: right;\">\n",
       "      <th></th>\n",
       "      <th>Postal Code</th>\n",
       "      <th>Borough</th>\n",
       "      <th>Neighbourhood</th>\n",
       "    </tr>\n",
       "  </thead>\n",
       "  <tbody>\n",
       "    <tr>\n",
       "      <th>0</th>\n",
       "      <td>M1A</td>\n",
       "      <td>Not assigned</td>\n",
       "      <td>Not assigned</td>\n",
       "    </tr>\n",
       "    <tr>\n",
       "      <th>1</th>\n",
       "      <td>M2A</td>\n",
       "      <td>Not assigned</td>\n",
       "      <td>Not assigned</td>\n",
       "    </tr>\n",
       "    <tr>\n",
       "      <th>2</th>\n",
       "      <td>M3A</td>\n",
       "      <td>North York</td>\n",
       "      <td>Parkwoods</td>\n",
       "    </tr>\n",
       "    <tr>\n",
       "      <th>3</th>\n",
       "      <td>M4A</td>\n",
       "      <td>North York</td>\n",
       "      <td>Victoria Village</td>\n",
       "    </tr>\n",
       "    <tr>\n",
       "      <th>4</th>\n",
       "      <td>M5A</td>\n",
       "      <td>Downtown Toronto</td>\n",
       "      <td>Regent Park, Harbourfront</td>\n",
       "    </tr>\n",
       "  </tbody>\n",
       "</table>\n",
       "</div>"
      ],
      "text/plain": [
       "  Postal Code           Borough              Neighbourhood\n",
       "0         M1A      Not assigned               Not assigned\n",
       "1         M2A      Not assigned               Not assigned\n",
       "2         M3A        North York                  Parkwoods\n",
       "3         M4A        North York           Victoria Village\n",
       "4         M5A  Downtown Toronto  Regent Park, Harbourfront"
      ]
     },
     "execution_count": 2,
     "metadata": {},
     "output_type": "execute_result"
    }
   ],
   "source": [
    "#link to the table.\n",
    "link='https://en.wikipedia.org/wiki/List_of_postal_codes_of_Canada:_M'\n",
    "#the read_html method returns a list of all tables in the html page\n",
    "ls = pd.read_html(link,header=0)\n",
    "#we're only interested in the first table, so we pick it as our dataframe\n",
    "df = ls[0]\n",
    "# checking to see everything worked smoothly.\n",
    "df.head()"
   ]
  },
  {
   "cell_type": "code",
   "execution_count": 3,
   "metadata": {},
   "outputs": [
    {
     "data": {
      "text/html": [
       "<div>\n",
       "<style scoped>\n",
       "    .dataframe tbody tr th:only-of-type {\n",
       "        vertical-align: middle;\n",
       "    }\n",
       "\n",
       "    .dataframe tbody tr th {\n",
       "        vertical-align: top;\n",
       "    }\n",
       "\n",
       "    .dataframe thead th {\n",
       "        text-align: right;\n",
       "    }\n",
       "</style>\n",
       "<table border=\"1\" class=\"dataframe\">\n",
       "  <thead>\n",
       "    <tr style=\"text-align: right;\">\n",
       "      <th></th>\n",
       "      <th>Postal Code</th>\n",
       "      <th>Borough</th>\n",
       "      <th>Neighbourhood</th>\n",
       "    </tr>\n",
       "  </thead>\n",
       "  <tbody>\n",
       "    <tr>\n",
       "      <th>2</th>\n",
       "      <td>M3A</td>\n",
       "      <td>North York</td>\n",
       "      <td>Parkwoods</td>\n",
       "    </tr>\n",
       "    <tr>\n",
       "      <th>3</th>\n",
       "      <td>M4A</td>\n",
       "      <td>North York</td>\n",
       "      <td>Victoria Village</td>\n",
       "    </tr>\n",
       "    <tr>\n",
       "      <th>4</th>\n",
       "      <td>M5A</td>\n",
       "      <td>Downtown Toronto</td>\n",
       "      <td>Regent Park, Harbourfront</td>\n",
       "    </tr>\n",
       "    <tr>\n",
       "      <th>5</th>\n",
       "      <td>M6A</td>\n",
       "      <td>North York</td>\n",
       "      <td>Lawrence Manor, Lawrence Heights</td>\n",
       "    </tr>\n",
       "    <tr>\n",
       "      <th>6</th>\n",
       "      <td>M7A</td>\n",
       "      <td>Downtown Toronto</td>\n",
       "      <td>Queen's Park, Ontario Provincial Government</td>\n",
       "    </tr>\n",
       "  </tbody>\n",
       "</table>\n",
       "</div>"
      ],
      "text/plain": [
       "  Postal Code           Borough                                Neighbourhood\n",
       "2         M3A        North York                                    Parkwoods\n",
       "3         M4A        North York                             Victoria Village\n",
       "4         M5A  Downtown Toronto                    Regent Park, Harbourfront\n",
       "5         M6A        North York             Lawrence Manor, Lawrence Heights\n",
       "6         M7A  Downtown Toronto  Queen's Park, Ontario Provincial Government"
      ]
     },
     "execution_count": 3,
     "metadata": {},
     "output_type": "execute_result"
    }
   ],
   "source": [
    "#drop rows where Borough is Not assigned\n",
    "df = df[df['Borough'] != 'Not assigned']\n",
    "#confirm\n",
    "df.head()"
   ]
  },
  {
   "cell_type": "code",
   "execution_count": 4,
   "metadata": {},
   "outputs": [
    {
     "data": {
      "text/html": [
       "<div>\n",
       "<style scoped>\n",
       "    .dataframe tbody tr th:only-of-type {\n",
       "        vertical-align: middle;\n",
       "    }\n",
       "\n",
       "    .dataframe tbody tr th {\n",
       "        vertical-align: top;\n",
       "    }\n",
       "\n",
       "    .dataframe thead th {\n",
       "        text-align: right;\n",
       "    }\n",
       "</style>\n",
       "<table border=\"1\" class=\"dataframe\">\n",
       "  <thead>\n",
       "    <tr style=\"text-align: right;\">\n",
       "      <th></th>\n",
       "      <th>Postal Code</th>\n",
       "      <th>Borough</th>\n",
       "      <th>Neighbourhood</th>\n",
       "    </tr>\n",
       "  </thead>\n",
       "  <tbody>\n",
       "    <tr>\n",
       "      <th>0</th>\n",
       "      <td>M3A</td>\n",
       "      <td>North York</td>\n",
       "      <td>Parkwoods</td>\n",
       "    </tr>\n",
       "    <tr>\n",
       "      <th>1</th>\n",
       "      <td>M4A</td>\n",
       "      <td>North York</td>\n",
       "      <td>Victoria Village</td>\n",
       "    </tr>\n",
       "    <tr>\n",
       "      <th>2</th>\n",
       "      <td>M5A</td>\n",
       "      <td>Downtown Toronto</td>\n",
       "      <td>Regent Park, Harbourfront</td>\n",
       "    </tr>\n",
       "    <tr>\n",
       "      <th>3</th>\n",
       "      <td>M6A</td>\n",
       "      <td>North York</td>\n",
       "      <td>Lawrence Manor, Lawrence Heights</td>\n",
       "    </tr>\n",
       "    <tr>\n",
       "      <th>4</th>\n",
       "      <td>M7A</td>\n",
       "      <td>Downtown Toronto</td>\n",
       "      <td>Queen's Park, Ontario Provincial Government</td>\n",
       "    </tr>\n",
       "  </tbody>\n",
       "</table>\n",
       "</div>"
      ],
      "text/plain": [
       "  Postal Code           Borough                                Neighbourhood\n",
       "0         M3A        North York                                    Parkwoods\n",
       "1         M4A        North York                             Victoria Village\n",
       "2         M5A  Downtown Toronto                    Regent Park, Harbourfront\n",
       "3         M6A        North York             Lawrence Manor, Lawrence Heights\n",
       "4         M7A  Downtown Toronto  Queen's Park, Ontario Provincial Government"
      ]
     },
     "execution_count": 4,
     "metadata": {},
     "output_type": "execute_result"
    }
   ],
   "source": [
    "#reset the index of the dataframe to have valid indeces\n",
    "df.reset_index(drop=True,inplace=True)\n",
    "#confirm\n",
    "df.head()"
   ]
  },
  {
   "cell_type": "markdown",
   "metadata": {},
   "source": [
    "This concludes the initial cleaning, we have correct values for each column as well as the index. \n",
    "\n",
    "We also have the dataframe sorted by the **`Postal Code`** column. "
   ]
  },
  {
   "cell_type": "markdown",
   "metadata": {},
   "source": [
    "### Attaching geospatial data \n",
    "We can download the data by running the following command: `!wget -q -O 'Geospatial_Coordinates.csv' 'http://cocl.us/Geospatial_data'`\n",
    "\n",
    "After downloading the file, we can import it with pandas `read_csv` method."
   ]
  },
  {
   "cell_type": "code",
   "execution_count": 5,
   "metadata": {},
   "outputs": [
    {
     "data": {
      "text/html": [
       "<div>\n",
       "<style scoped>\n",
       "    .dataframe tbody tr th:only-of-type {\n",
       "        vertical-align: middle;\n",
       "    }\n",
       "\n",
       "    .dataframe tbody tr th {\n",
       "        vertical-align: top;\n",
       "    }\n",
       "\n",
       "    .dataframe thead th {\n",
       "        text-align: right;\n",
       "    }\n",
       "</style>\n",
       "<table border=\"1\" class=\"dataframe\">\n",
       "  <thead>\n",
       "    <tr style=\"text-align: right;\">\n",
       "      <th></th>\n",
       "      <th>Postal Code</th>\n",
       "      <th>Latitude</th>\n",
       "      <th>Longitude</th>\n",
       "    </tr>\n",
       "  </thead>\n",
       "  <tbody>\n",
       "    <tr>\n",
       "      <th>0</th>\n",
       "      <td>M1B</td>\n",
       "      <td>43.806686</td>\n",
       "      <td>-79.194353</td>\n",
       "    </tr>\n",
       "    <tr>\n",
       "      <th>1</th>\n",
       "      <td>M1C</td>\n",
       "      <td>43.784535</td>\n",
       "      <td>-79.160497</td>\n",
       "    </tr>\n",
       "    <tr>\n",
       "      <th>2</th>\n",
       "      <td>M1E</td>\n",
       "      <td>43.763573</td>\n",
       "      <td>-79.188711</td>\n",
       "    </tr>\n",
       "    <tr>\n",
       "      <th>3</th>\n",
       "      <td>M1G</td>\n",
       "      <td>43.770992</td>\n",
       "      <td>-79.216917</td>\n",
       "    </tr>\n",
       "    <tr>\n",
       "      <th>4</th>\n",
       "      <td>M1H</td>\n",
       "      <td>43.773136</td>\n",
       "      <td>-79.239476</td>\n",
       "    </tr>\n",
       "  </tbody>\n",
       "</table>\n",
       "</div>"
      ],
      "text/plain": [
       "  Postal Code   Latitude  Longitude\n",
       "0         M1B  43.806686 -79.194353\n",
       "1         M1C  43.784535 -79.160497\n",
       "2         M1E  43.763573 -79.188711\n",
       "3         M1G  43.770992 -79.216917\n",
       "4         M1H  43.773136 -79.239476"
      ]
     },
     "execution_count": 5,
     "metadata": {},
     "output_type": "execute_result"
    }
   ],
   "source": [
    "geo = pd.read_csv('Geospatial_Coordinates.csv')\n",
    "#confirm the structure\n",
    "geo.head()"
   ]
  },
  {
   "cell_type": "markdown",
   "metadata": {},
   "source": [
    "Then we can merge the two dataframes based on the common **`Postal Code`** Column to make a *FULL* dataframe. Use pandas left merge (Left Join) with `df` on the left and `geo` on the right."
   ]
  },
  {
   "cell_type": "code",
   "execution_count": 6,
   "metadata": {},
   "outputs": [
    {
     "data": {
      "text/html": [
       "<div>\n",
       "<style scoped>\n",
       "    .dataframe tbody tr th:only-of-type {\n",
       "        vertical-align: middle;\n",
       "    }\n",
       "\n",
       "    .dataframe tbody tr th {\n",
       "        vertical-align: top;\n",
       "    }\n",
       "\n",
       "    .dataframe thead th {\n",
       "        text-align: right;\n",
       "    }\n",
       "</style>\n",
       "<table border=\"1\" class=\"dataframe\">\n",
       "  <thead>\n",
       "    <tr style=\"text-align: right;\">\n",
       "      <th></th>\n",
       "      <th>Postal Code</th>\n",
       "      <th>Borough</th>\n",
       "      <th>Neighbourhood</th>\n",
       "      <th>Latitude</th>\n",
       "      <th>Longitude</th>\n",
       "    </tr>\n",
       "  </thead>\n",
       "  <tbody>\n",
       "    <tr>\n",
       "      <th>0</th>\n",
       "      <td>M3A</td>\n",
       "      <td>North York</td>\n",
       "      <td>Parkwoods</td>\n",
       "      <td>43.753259</td>\n",
       "      <td>-79.329656</td>\n",
       "    </tr>\n",
       "    <tr>\n",
       "      <th>1</th>\n",
       "      <td>M4A</td>\n",
       "      <td>North York</td>\n",
       "      <td>Victoria Village</td>\n",
       "      <td>43.725882</td>\n",
       "      <td>-79.315572</td>\n",
       "    </tr>\n",
       "    <tr>\n",
       "      <th>2</th>\n",
       "      <td>M5A</td>\n",
       "      <td>Downtown Toronto</td>\n",
       "      <td>Regent Park, Harbourfront</td>\n",
       "      <td>43.654260</td>\n",
       "      <td>-79.360636</td>\n",
       "    </tr>\n",
       "    <tr>\n",
       "      <th>3</th>\n",
       "      <td>M6A</td>\n",
       "      <td>North York</td>\n",
       "      <td>Lawrence Manor, Lawrence Heights</td>\n",
       "      <td>43.718518</td>\n",
       "      <td>-79.464763</td>\n",
       "    </tr>\n",
       "    <tr>\n",
       "      <th>4</th>\n",
       "      <td>M7A</td>\n",
       "      <td>Downtown Toronto</td>\n",
       "      <td>Queen's Park, Ontario Provincial Government</td>\n",
       "      <td>43.662301</td>\n",
       "      <td>-79.389494</td>\n",
       "    </tr>\n",
       "    <tr>\n",
       "      <th>5</th>\n",
       "      <td>M9A</td>\n",
       "      <td>Etobicoke</td>\n",
       "      <td>Islington Avenue, Humber Valley Village</td>\n",
       "      <td>43.667856</td>\n",
       "      <td>-79.532242</td>\n",
       "    </tr>\n",
       "    <tr>\n",
       "      <th>6</th>\n",
       "      <td>M1B</td>\n",
       "      <td>Scarborough</td>\n",
       "      <td>Malvern, Rouge</td>\n",
       "      <td>43.806686</td>\n",
       "      <td>-79.194353</td>\n",
       "    </tr>\n",
       "    <tr>\n",
       "      <th>7</th>\n",
       "      <td>M3B</td>\n",
       "      <td>North York</td>\n",
       "      <td>Don Mills</td>\n",
       "      <td>43.745906</td>\n",
       "      <td>-79.352188</td>\n",
       "    </tr>\n",
       "    <tr>\n",
       "      <th>8</th>\n",
       "      <td>M4B</td>\n",
       "      <td>East York</td>\n",
       "      <td>Parkview Hill, Woodbine Gardens</td>\n",
       "      <td>43.706397</td>\n",
       "      <td>-79.309937</td>\n",
       "    </tr>\n",
       "    <tr>\n",
       "      <th>9</th>\n",
       "      <td>M5B</td>\n",
       "      <td>Downtown Toronto</td>\n",
       "      <td>Garden District, Ryerson</td>\n",
       "      <td>43.657162</td>\n",
       "      <td>-79.378937</td>\n",
       "    </tr>\n",
       "  </tbody>\n",
       "</table>\n",
       "</div>"
      ],
      "text/plain": [
       "  Postal Code           Borough                                Neighbourhood  \\\n",
       "0         M3A        North York                                    Parkwoods   \n",
       "1         M4A        North York                             Victoria Village   \n",
       "2         M5A  Downtown Toronto                    Regent Park, Harbourfront   \n",
       "3         M6A        North York             Lawrence Manor, Lawrence Heights   \n",
       "4         M7A  Downtown Toronto  Queen's Park, Ontario Provincial Government   \n",
       "5         M9A         Etobicoke      Islington Avenue, Humber Valley Village   \n",
       "6         M1B       Scarborough                               Malvern, Rouge   \n",
       "7         M3B        North York                                    Don Mills   \n",
       "8         M4B         East York              Parkview Hill, Woodbine Gardens   \n",
       "9         M5B  Downtown Toronto                     Garden District, Ryerson   \n",
       "\n",
       "    Latitude  Longitude  \n",
       "0  43.753259 -79.329656  \n",
       "1  43.725882 -79.315572  \n",
       "2  43.654260 -79.360636  \n",
       "3  43.718518 -79.464763  \n",
       "4  43.662301 -79.389494  \n",
       "5  43.667856 -79.532242  \n",
       "6  43.806686 -79.194353  \n",
       "7  43.745906 -79.352188  \n",
       "8  43.706397 -79.309937  \n",
       "9  43.657162 -79.378937  "
      ]
     },
     "execution_count": 6,
     "metadata": {},
     "output_type": "execute_result"
    }
   ],
   "source": [
    "full = pd.merge(df,geo,how='left')\n",
    "#confirm\n",
    "full.head(10)"
   ]
  },
  {
   "cell_type": "markdown",
   "metadata": {},
   "source": [
    "<a id='clus'></a>\n",
    "## Clustering\n",
    "\n",
    "We will then cluster the postal codes into 4 clusters (as the total number of rows for only **`Toronto`** is almost 40)."
   ]
  },
  {
   "cell_type": "code",
   "execution_count": 10,
   "metadata": {},
   "outputs": [
    {
     "data": {
      "text/html": [
       "<div>\n",
       "<style scoped>\n",
       "    .dataframe tbody tr th:only-of-type {\n",
       "        vertical-align: middle;\n",
       "    }\n",
       "\n",
       "    .dataframe tbody tr th {\n",
       "        vertical-align: top;\n",
       "    }\n",
       "\n",
       "    .dataframe thead th {\n",
       "        text-align: right;\n",
       "    }\n",
       "</style>\n",
       "<table border=\"1\" class=\"dataframe\">\n",
       "  <thead>\n",
       "    <tr style=\"text-align: right;\">\n",
       "      <th></th>\n",
       "      <th>Postal Code</th>\n",
       "      <th>Borough</th>\n",
       "      <th>Neighbourhood</th>\n",
       "      <th>Latitude</th>\n",
       "      <th>Longitude</th>\n",
       "    </tr>\n",
       "  </thead>\n",
       "  <tbody>\n",
       "    <tr>\n",
       "      <th>2</th>\n",
       "      <td>M5A</td>\n",
       "      <td>Downtown Toronto</td>\n",
       "      <td>Regent Park, Harbourfront</td>\n",
       "      <td>43.654260</td>\n",
       "      <td>-79.360636</td>\n",
       "    </tr>\n",
       "    <tr>\n",
       "      <th>4</th>\n",
       "      <td>M7A</td>\n",
       "      <td>Downtown Toronto</td>\n",
       "      <td>Queen's Park, Ontario Provincial Government</td>\n",
       "      <td>43.662301</td>\n",
       "      <td>-79.389494</td>\n",
       "    </tr>\n",
       "    <tr>\n",
       "      <th>9</th>\n",
       "      <td>M5B</td>\n",
       "      <td>Downtown Toronto</td>\n",
       "      <td>Garden District, Ryerson</td>\n",
       "      <td>43.657162</td>\n",
       "      <td>-79.378937</td>\n",
       "    </tr>\n",
       "    <tr>\n",
       "      <th>15</th>\n",
       "      <td>M5C</td>\n",
       "      <td>Downtown Toronto</td>\n",
       "      <td>St. James Town</td>\n",
       "      <td>43.651494</td>\n",
       "      <td>-79.375418</td>\n",
       "    </tr>\n",
       "    <tr>\n",
       "      <th>19</th>\n",
       "      <td>M4E</td>\n",
       "      <td>East Toronto</td>\n",
       "      <td>The Beaches</td>\n",
       "      <td>43.676357</td>\n",
       "      <td>-79.293031</td>\n",
       "    </tr>\n",
       "    <tr>\n",
       "      <th>20</th>\n",
       "      <td>M5E</td>\n",
       "      <td>Downtown Toronto</td>\n",
       "      <td>Berczy Park</td>\n",
       "      <td>43.644771</td>\n",
       "      <td>-79.373306</td>\n",
       "    </tr>\n",
       "    <tr>\n",
       "      <th>24</th>\n",
       "      <td>M5G</td>\n",
       "      <td>Downtown Toronto</td>\n",
       "      <td>Central Bay Street</td>\n",
       "      <td>43.657952</td>\n",
       "      <td>-79.387383</td>\n",
       "    </tr>\n",
       "    <tr>\n",
       "      <th>25</th>\n",
       "      <td>M6G</td>\n",
       "      <td>Downtown Toronto</td>\n",
       "      <td>Christie</td>\n",
       "      <td>43.669542</td>\n",
       "      <td>-79.422564</td>\n",
       "    </tr>\n",
       "    <tr>\n",
       "      <th>30</th>\n",
       "      <td>M5H</td>\n",
       "      <td>Downtown Toronto</td>\n",
       "      <td>Richmond, Adelaide, King</td>\n",
       "      <td>43.650571</td>\n",
       "      <td>-79.384568</td>\n",
       "    </tr>\n",
       "    <tr>\n",
       "      <th>31</th>\n",
       "      <td>M6H</td>\n",
       "      <td>West Toronto</td>\n",
       "      <td>Dufferin, Dovercourt Village</td>\n",
       "      <td>43.669005</td>\n",
       "      <td>-79.442259</td>\n",
       "    </tr>\n",
       "  </tbody>\n",
       "</table>\n",
       "</div>"
      ],
      "text/plain": [
       "   Postal Code           Borough                                Neighbourhood  \\\n",
       "2          M5A  Downtown Toronto                    Regent Park, Harbourfront   \n",
       "4          M7A  Downtown Toronto  Queen's Park, Ontario Provincial Government   \n",
       "9          M5B  Downtown Toronto                     Garden District, Ryerson   \n",
       "15         M5C  Downtown Toronto                               St. James Town   \n",
       "19         M4E      East Toronto                                  The Beaches   \n",
       "20         M5E  Downtown Toronto                                  Berczy Park   \n",
       "24         M5G  Downtown Toronto                           Central Bay Street   \n",
       "25         M6G  Downtown Toronto                                     Christie   \n",
       "30         M5H  Downtown Toronto                     Richmond, Adelaide, King   \n",
       "31         M6H      West Toronto                 Dufferin, Dovercourt Village   \n",
       "\n",
       "     Latitude  Longitude  \n",
       "2   43.654260 -79.360636  \n",
       "4   43.662301 -79.389494  \n",
       "9   43.657162 -79.378937  \n",
       "15  43.651494 -79.375418  \n",
       "19  43.676357 -79.293031  \n",
       "20  43.644771 -79.373306  \n",
       "24  43.657952 -79.387383  \n",
       "25  43.669542 -79.422564  \n",
       "30  43.650571 -79.384568  \n",
       "31  43.669005 -79.442259  "
      ]
     },
     "execution_count": 10,
     "metadata": {},
     "output_type": "execute_result"
    }
   ],
   "source": [
    "#getting only Tornto Boroughs\n",
    "tor = full[full.Borough.str.contains('Toronto')]\n",
    "#confirming\n",
    "tor.head(10)"
   ]
  },
  {
   "cell_type": "code",
   "execution_count": 11,
   "metadata": {},
   "outputs": [
    {
     "data": {
      "text/plain": [
       "39"
      ]
     },
     "execution_count": 11,
     "metadata": {},
     "output_type": "execute_result"
    }
   ],
   "source": [
    "#number of observations\n",
    "len(tor)"
   ]
  },
  {
   "cell_type": "markdown",
   "metadata": {},
   "source": [
    "Now that we have the `tor` dataframe with only the observations we're interested in, we'll use folium to visually examine them initially."
   ]
  },
  {
   "cell_type": "code",
   "execution_count": 14,
   "metadata": {},
   "outputs": [
    {
     "data": {
      "text/html": [
       "<div style=\"width:100%;\"><div style=\"position:relative;width:100%;height:0;padding-bottom:60%;\"><span style=\"color:#565656\">Make this Notebook Trusted to load map: File -> Trust Notebook</span><iframe src=\"about:blank\" style=\"position:absolute;width:100%;height:100%;left:0;top:0;border:none !important;\" data-html=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 onload=\"this.contentDocument.open();this.contentDocument.write(atob(this.getAttribute('data-html')));this.contentDocument.close();\" allowfullscreen webkitallowfullscreen mozallowfullscreen></iframe></div></div>"
      ],
      "text/plain": [
       "<folium.folium.Map at 0x1b030b62a08>"
      ]
     },
     "execution_count": 14,
     "metadata": {},
     "output_type": "execute_result"
    }
   ],
   "source": [
    "#import folium and create a map centered around Toronto coordinates then view it\n",
    "import folium\n",
    "toronto_coordinates = [43.6532,-79.3832]\n",
    "toronto_map = folium.Map(location=toronto_coordinates,zoom_start=12)\n",
    "toronto_map"
   ]
  },
  {
   "cell_type": "code",
   "execution_count": 16,
   "metadata": {},
   "outputs": [
    {
     "data": {
      "text/html": [
       "<div style=\"width:100%;\"><div style=\"position:relative;width:100%;height:0;padding-bottom:60%;\"><span style=\"color:#565656\">Make this Notebook Trusted to load map: File -> Trust Notebook</span><iframe src=\"about:blank\" style=\"position:absolute;width:100%;height:100%;left:0;top:0;border:none !important;\" data-html=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 onload=\"this.contentDocument.open();this.contentDocument.write(atob(this.getAttribute('data-html')));this.contentDocument.close();\" allowfullscreen webkitallowfullscreen mozallowfullscreen></iframe></div></div>"
      ],
      "text/plain": [
       "<folium.folium.Map at 0x1b030b62a08>"
      ]
     },
     "execution_count": 16,
     "metadata": {},
     "output_type": "execute_result"
    }
   ],
   "source": [
    "#Visualize our data points on the map using Folium.\n",
    "for lat,lng,borough,neighbourhood in zip(tor['Latitude'],tor['Longitude'],tor['Borough'],tor['Neighbourhood']):\n",
    "    label = '{}, {}'.format(neighbourhood, borough)\n",
    "    label = folium.Popup(label, parse_html=True)\n",
    "    folium.CircleMarker([lat,lng],radius=4,popup=label,color='blue',\n",
    "    fill=True,fill_color='#3e35db',fill_opacity=0.7,parse_html=False).add_to(toronto_map)\n",
    "#view the map\n",
    "toronto_map"
   ]
  },
  {
   "cell_type": "markdown",
   "metadata": {},
   "source": [
    "Now we need to cluster the observations, we'll assume 4 clusters for simplicity. And we'll use the `KMeans` method from the `scikit-learn` clustering module."
   ]
  },
  {
   "cell_type": "code",
   "execution_count": 17,
   "metadata": {},
   "outputs": [
    {
     "name": "stderr",
     "output_type": "stream",
     "text": [
      "C:\\ProgramData\\Anaconda3\\lib\\site-packages\\ipykernel_launcher.py:9: SettingWithCopyWarning: \n",
      "A value is trying to be set on a copy of a slice from a DataFrame.\n",
      "Try using .loc[row_indexer,col_indexer] = value instead\n",
      "\n",
      "See the caveats in the documentation: https://pandas.pydata.org/pandas-docs/stable/user_guide/indexing.html#returning-a-view-versus-a-copy\n",
      "  if __name__ == '__main__':\n"
     ]
    },
    {
     "data": {
      "text/html": [
       "<div>\n",
       "<style scoped>\n",
       "    .dataframe tbody tr th:only-of-type {\n",
       "        vertical-align: middle;\n",
       "    }\n",
       "\n",
       "    .dataframe tbody tr th {\n",
       "        vertical-align: top;\n",
       "    }\n",
       "\n",
       "    .dataframe thead th {\n",
       "        text-align: right;\n",
       "    }\n",
       "</style>\n",
       "<table border=\"1\" class=\"dataframe\">\n",
       "  <thead>\n",
       "    <tr style=\"text-align: right;\">\n",
       "      <th></th>\n",
       "      <th>Postal Code</th>\n",
       "      <th>Borough</th>\n",
       "      <th>Neighbourhood</th>\n",
       "      <th>Latitude</th>\n",
       "      <th>Longitude</th>\n",
       "      <th>Cluster</th>\n",
       "    </tr>\n",
       "  </thead>\n",
       "  <tbody>\n",
       "    <tr>\n",
       "      <th>2</th>\n",
       "      <td>M5A</td>\n",
       "      <td>Downtown Toronto</td>\n",
       "      <td>Regent Park, Harbourfront</td>\n",
       "      <td>43.654260</td>\n",
       "      <td>-79.360636</td>\n",
       "      <td>3</td>\n",
       "    </tr>\n",
       "    <tr>\n",
       "      <th>4</th>\n",
       "      <td>M7A</td>\n",
       "      <td>Downtown Toronto</td>\n",
       "      <td>Queen's Park, Ontario Provincial Government</td>\n",
       "      <td>43.662301</td>\n",
       "      <td>-79.389494</td>\n",
       "      <td>3</td>\n",
       "    </tr>\n",
       "    <tr>\n",
       "      <th>9</th>\n",
       "      <td>M5B</td>\n",
       "      <td>Downtown Toronto</td>\n",
       "      <td>Garden District, Ryerson</td>\n",
       "      <td>43.657162</td>\n",
       "      <td>-79.378937</td>\n",
       "      <td>3</td>\n",
       "    </tr>\n",
       "    <tr>\n",
       "      <th>15</th>\n",
       "      <td>M5C</td>\n",
       "      <td>Downtown Toronto</td>\n",
       "      <td>St. James Town</td>\n",
       "      <td>43.651494</td>\n",
       "      <td>-79.375418</td>\n",
       "      <td>3</td>\n",
       "    </tr>\n",
       "    <tr>\n",
       "      <th>19</th>\n",
       "      <td>M4E</td>\n",
       "      <td>East Toronto</td>\n",
       "      <td>The Beaches</td>\n",
       "      <td>43.676357</td>\n",
       "      <td>-79.293031</td>\n",
       "      <td>0</td>\n",
       "    </tr>\n",
       "    <tr>\n",
       "      <th>20</th>\n",
       "      <td>M5E</td>\n",
       "      <td>Downtown Toronto</td>\n",
       "      <td>Berczy Park</td>\n",
       "      <td>43.644771</td>\n",
       "      <td>-79.373306</td>\n",
       "      <td>3</td>\n",
       "    </tr>\n",
       "    <tr>\n",
       "      <th>24</th>\n",
       "      <td>M5G</td>\n",
       "      <td>Downtown Toronto</td>\n",
       "      <td>Central Bay Street</td>\n",
       "      <td>43.657952</td>\n",
       "      <td>-79.387383</td>\n",
       "      <td>3</td>\n",
       "    </tr>\n",
       "    <tr>\n",
       "      <th>25</th>\n",
       "      <td>M6G</td>\n",
       "      <td>Downtown Toronto</td>\n",
       "      <td>Christie</td>\n",
       "      <td>43.669542</td>\n",
       "      <td>-79.422564</td>\n",
       "      <td>1</td>\n",
       "    </tr>\n",
       "    <tr>\n",
       "      <th>30</th>\n",
       "      <td>M5H</td>\n",
       "      <td>Downtown Toronto</td>\n",
       "      <td>Richmond, Adelaide, King</td>\n",
       "      <td>43.650571</td>\n",
       "      <td>-79.384568</td>\n",
       "      <td>3</td>\n",
       "    </tr>\n",
       "    <tr>\n",
       "      <th>31</th>\n",
       "      <td>M6H</td>\n",
       "      <td>West Toronto</td>\n",
       "      <td>Dufferin, Dovercourt Village</td>\n",
       "      <td>43.669005</td>\n",
       "      <td>-79.442259</td>\n",
       "      <td>1</td>\n",
       "    </tr>\n",
       "  </tbody>\n",
       "</table>\n",
       "</div>"
      ],
      "text/plain": [
       "   Postal Code           Borough                                Neighbourhood  \\\n",
       "2          M5A  Downtown Toronto                    Regent Park, Harbourfront   \n",
       "4          M7A  Downtown Toronto  Queen's Park, Ontario Provincial Government   \n",
       "9          M5B  Downtown Toronto                     Garden District, Ryerson   \n",
       "15         M5C  Downtown Toronto                               St. James Town   \n",
       "19         M4E      East Toronto                                  The Beaches   \n",
       "20         M5E  Downtown Toronto                                  Berczy Park   \n",
       "24         M5G  Downtown Toronto                           Central Bay Street   \n",
       "25         M6G  Downtown Toronto                                     Christie   \n",
       "30         M5H  Downtown Toronto                     Richmond, Adelaide, King   \n",
       "31         M6H      West Toronto                 Dufferin, Dovercourt Village   \n",
       "\n",
       "     Latitude  Longitude  Cluster  \n",
       "2   43.654260 -79.360636        3  \n",
       "4   43.662301 -79.389494        3  \n",
       "9   43.657162 -79.378937        3  \n",
       "15  43.651494 -79.375418        3  \n",
       "19  43.676357 -79.293031        0  \n",
       "20  43.644771 -79.373306        3  \n",
       "24  43.657952 -79.387383        3  \n",
       "25  43.669542 -79.422564        1  \n",
       "30  43.650571 -79.384568        3  \n",
       "31  43.669005 -79.442259        1  "
      ]
     },
     "execution_count": 17,
     "metadata": {},
     "output_type": "execute_result"
    }
   ],
   "source": [
    "#import the KMeans module\n",
    "from sklearn.cluster import KMeans\n",
    "#set the number of clusters to 4\n",
    "k = 4\n",
    "#drop any unnecessary features and leave only the latitude and longitude columns to cluster by in the `tor` dataframe\n",
    "clustering = tor.drop(['Postal Code','Borough','Neighbourhood'],axis=1)\n",
    "clusters = KMeans(n_clusters=k,random_state=0).fit(clustering)\n",
    "#add the cluster labels to the data frame\n",
    "tor['Cluster'] = clusters.labels_\n",
    "#confirm everything worked\n",
    "tor.head(10)"
   ]
  },
  {
   "cell_type": "markdown",
   "metadata": {},
   "source": [
    "Everything worked smoothly, and the warning is because of broadcasting as we are using a copy of a slice of a dataframe, but it is fine for our purpose right now.\n",
    "\n",
    "We'll assign a color to each cluster and visualize them via `folium`."
   ]
  },
  {
   "cell_type": "code",
   "execution_count": 18,
   "metadata": {},
   "outputs": [],
   "source": [
    "#assigning colors to cluster numbers.\n",
    "color_dict = {0:'red',1:'blue',2:'yellow',3:'black'}"
   ]
  },
  {
   "cell_type": "code",
   "execution_count": 19,
   "metadata": {},
   "outputs": [
    {
     "data": {
      "text/html": [
       "<div style=\"width:100%;\"><div style=\"position:relative;width:100%;height:0;padding-bottom:60%;\"><span style=\"color:#565656\">Make this Notebook Trusted to load map: File -> Trust Notebook</span><iframe src=\"about:blank\" style=\"position:absolute;width:100%;height:100%;left:0;top:0;border:none !important;\" data-html=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 onload=\"this.contentDocument.open();this.contentDocument.write(atob(this.getAttribute('data-html')));this.contentDocument.close();\" allowfullscreen webkitallowfullscreen mozallowfullscreen></iframe></div></div>"
      ],
      "text/plain": [
       "<folium.folium.Map at 0x1b02c999c88>"
      ]
     },
     "execution_count": 19,
     "metadata": {},
     "output_type": "execute_result"
    }
   ],
   "source": [
    "cluster_map = folium.Map(location=toronto_coordinates,zoom_start=10)\n",
    "for lat, lon, neighbourhood, cluster in zip(tor['Latitude'], tor['Longitude'], tor['Neighbourhood'], tor['Cluster']):\n",
    "    label = folium.Popup('Cluster #' + str(cluster), parse_html=True)\n",
    "    folium.CircleMarker([lat, lon],radius=4,popup=label,\n",
    "        color=color_dict[cluster],fill=True,fill_color=color_dict[cluster],\n",
    "        fill_opacity=0.7).add_to(cluster_map)\n",
    "       \n",
    "cluster_map"
   ]
  },
  {
   "cell_type": "markdown",
   "metadata": {},
   "source": [
    "We can see that evgerything worked smoothly, and we got our 4 clusters with different colors perfectly."
   ]
  }
 ],
 "metadata": {
  "kernelspec": {
   "display_name": "Python 3",
   "language": "python",
   "name": "python3"
  },
  "language_info": {
   "codemirror_mode": {
    "name": "ipython",
    "version": 3
   },
   "file_extension": ".py",
   "mimetype": "text/x-python",
   "name": "python",
   "nbconvert_exporter": "python",
   "pygments_lexer": "ipython3",
   "version": "3.7.7"
  }
 },
 "nbformat": 4,
 "nbformat_minor": 4
}
